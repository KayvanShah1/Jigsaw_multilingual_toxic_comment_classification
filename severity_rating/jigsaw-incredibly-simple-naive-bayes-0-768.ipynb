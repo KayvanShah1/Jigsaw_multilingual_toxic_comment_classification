{
 "cells": [
  {
   "cell_type": "markdown",
   "id": "af73dec0",
   "metadata": {
    "papermill": {
     "duration": 0.018799,
     "end_time": "2021-11-13T07:32:01.075290",
     "exception": false,
     "start_time": "2021-11-13T07:32:01.056491",
     "status": "completed"
    },
    "tags": []
   },
   "source": [
    "# ☣️ Jigsaw - Super simple Naive Bayes [LB=0.768]\n",
    "\n",
    "## Very simple naive bayes with `LB=0768`.\n",
    "\n",
    "Using data from [Toxic Comment Classification Challenge](https://www.kaggle.com/c/jigsaw-toxic-comment-classification-challenge)\n",
    "\n",
    "I have created a dataset for this data. It's public here :\n",
    "* [jigsaw-toxic-comment-classification-challenge](https://www.kaggle.com/julian3833/jigsaw-toxic-comment-classification-challenge)\n",
    "\n",
    "\n",
    "# Please, _DO_ upvote!"
   ]
  },
  {
   "cell_type": "markdown",
   "id": "81cc5b28",
   "metadata": {
    "papermill": {
     "duration": 0.015195,
     "end_time": "2021-11-13T07:32:01.106609",
     "exception": false,
     "start_time": "2021-11-13T07:32:01.091414",
     "status": "completed"
    },
    "tags": []
   },
   "source": [
    "# Imports"
   ]
  },
  {
   "cell_type": "code",
   "execution_count": 1,
   "id": "84f2a8b3",
   "metadata": {
    "execution": {
     "iopub.execute_input": "2021-11-13T07:32:01.142562Z",
     "iopub.status.busy": "2021-11-13T07:32:01.141508Z",
     "iopub.status.idle": "2021-11-13T07:32:01.864905Z",
     "shell.execute_reply": "2021-11-13T07:32:01.864163Z",
     "shell.execute_reply.started": "2021-11-11T05:03:09.854443Z"
    },
    "papermill": {
     "duration": 0.742235,
     "end_time": "2021-11-13T07:32:01.865081",
     "exception": false,
     "start_time": "2021-11-13T07:32:01.122846",
     "status": "completed"
    },
    "tags": []
   },
   "outputs": [],
   "source": [
    "import pandas as pd\n",
    "from sklearn.naive_bayes import MultinomialNB\n",
    "from sklearn.feature_extraction.text import TfidfVectorizer"
   ]
  },
  {
   "cell_type": "markdown",
   "id": "0acb2271",
   "metadata": {
    "papermill": {
     "duration": 0.016124,
     "end_time": "2021-11-13T07:32:01.897540",
     "exception": false,
     "start_time": "2021-11-13T07:32:01.881416",
     "status": "completed"
    },
    "tags": []
   },
   "source": [
    "# Create train data\n",
    "\n",
    "The competition was multioutput\n",
    "\n",
    "We turn it into a binary toxic/ no-toxic classification"
   ]
  },
  {
   "cell_type": "code",
   "execution_count": 2,
   "id": "ae8b2b55",
   "metadata": {
    "execution": {
     "iopub.execute_input": "2021-11-13T07:32:01.937416Z",
     "iopub.status.busy": "2021-11-13T07:32:01.936731Z",
     "iopub.status.idle": "2021-11-13T07:32:04.048555Z",
     "shell.execute_reply": "2021-11-13T07:32:04.048074Z",
     "shell.execute_reply.started": "2021-11-11T05:03:10.768691Z"
    },
    "papermill": {
     "duration": 2.13475,
     "end_time": "2021-11-13T07:32:04.048690",
     "exception": false,
     "start_time": "2021-11-13T07:32:01.913940",
     "status": "completed"
    },
    "tags": []
   },
   "outputs": [
    {
     "data": {
      "text/html": [
       "<div>\n",
       "<style scoped>\n",
       "    .dataframe tbody tr th:only-of-type {\n",
       "        vertical-align: middle;\n",
       "    }\n",
       "\n",
       "    .dataframe tbody tr th {\n",
       "        vertical-align: top;\n",
       "    }\n",
       "\n",
       "    .dataframe thead th {\n",
       "        text-align: right;\n",
       "    }\n",
       "</style>\n",
       "<table border=\"1\" class=\"dataframe\">\n",
       "  <thead>\n",
       "    <tr style=\"text-align: right;\">\n",
       "      <th></th>\n",
       "      <th>text</th>\n",
       "      <th>y</th>\n",
       "    </tr>\n",
       "  </thead>\n",
       "  <tbody>\n",
       "    <tr>\n",
       "      <th>41463</th>\n",
       "      <td>Suitecivil your a pussy ass bitch i'd fucken k...</td>\n",
       "      <td>1</td>\n",
       "    </tr>\n",
       "    <tr>\n",
       "      <th>29553</th>\n",
       "      <td>\"\\n\\n- You are right concerning the WP:SYNTH, ...</td>\n",
       "      <td>0</td>\n",
       "    </tr>\n",
       "    <tr>\n",
       "      <th>47889</th>\n",
       "      <td>\"Cab, your not Korean or Korea specialist. Hav...</td>\n",
       "      <td>0</td>\n",
       "    </tr>\n",
       "    <tr>\n",
       "      <th>89855</th>\n",
       "      <td>Actually this map was taken from the CIA fact ...</td>\n",
       "      <td>0</td>\n",
       "    </tr>\n",
       "    <tr>\n",
       "      <th>113479</th>\n",
       "      <td>But I do have one point to make regarding assu...</td>\n",
       "      <td>0</td>\n",
       "    </tr>\n",
       "  </tbody>\n",
       "</table>\n",
       "</div>"
      ],
      "text/plain": [
       "                                                     text  y\n",
       "41463   Suitecivil your a pussy ass bitch i'd fucken k...  1\n",
       "29553   \"\\n\\n- You are right concerning the WP:SYNTH, ...  0\n",
       "47889   \"Cab, your not Korean or Korea specialist. Hav...  0\n",
       "89855   Actually this map was taken from the CIA fact ...  0\n",
       "113479  But I do have one point to make regarding assu...  0"
      ]
     },
     "execution_count": 2,
     "metadata": {},
     "output_type": "execute_result"
    }
   ],
   "source": [
    "df = pd.read_csv(\"../input/jigsaw-toxic-comment-classification-challenge/train.csv\")\n",
    "df['y'] = (df[['toxic', 'severe_toxic', 'obscene', 'threat', 'insult', 'identity_hate']].sum(axis=1) > 0 ).astype(int)\n",
    "df = df[['comment_text', 'y']].rename(columns={'comment_text': 'text'})\n",
    "df.sample(5)"
   ]
  },
  {
   "cell_type": "markdown",
   "id": "07614c65",
   "metadata": {
    "papermill": {
     "duration": 0.016231,
     "end_time": "2021-11-13T07:32:04.081395",
     "exception": false,
     "start_time": "2021-11-13T07:32:04.065164",
     "status": "completed"
    },
    "tags": []
   },
   "source": [
    "# Undersample\n",
    "\n",
    "The dataset is very unbalanced. Here we undersample the majority class. Other strategies might work better."
   ]
  },
  {
   "cell_type": "code",
   "execution_count": 3,
   "id": "fd7a1da2",
   "metadata": {
    "execution": {
     "iopub.execute_input": "2021-11-13T07:32:04.116876Z",
     "iopub.status.busy": "2021-11-13T07:32:04.116269Z",
     "iopub.status.idle": "2021-11-13T07:32:04.125361Z",
     "shell.execute_reply": "2021-11-13T07:32:04.125903Z",
     "shell.execute_reply.started": "2021-11-11T05:03:12.660526Z"
    },
    "papermill": {
     "duration": 0.028477,
     "end_time": "2021-11-13T07:32:04.126081",
     "exception": false,
     "start_time": "2021-11-13T07:32:04.097604",
     "status": "completed"
    },
    "tags": []
   },
   "outputs": [
    {
     "data": {
      "text/plain": [
       "0    0.898321\n",
       "1    0.101679\n",
       "Name: y, dtype: float64"
      ]
     },
     "execution_count": 3,
     "metadata": {},
     "output_type": "execute_result"
    }
   ],
   "source": [
    "df['y'].value_counts(normalize=True)"
   ]
  },
  {
   "cell_type": "code",
   "execution_count": 4,
   "id": "f7f01e29",
   "metadata": {
    "execution": {
     "iopub.execute_input": "2021-11-13T07:32:04.164619Z",
     "iopub.status.busy": "2021-11-13T07:32:04.163539Z",
     "iopub.status.idle": "2021-11-13T07:32:04.168949Z",
     "shell.execute_reply": "2021-11-13T07:32:04.169460Z",
     "shell.execute_reply.started": "2021-11-11T05:03:12.675044Z"
    },
    "papermill": {
     "duration": 0.026995,
     "end_time": "2021-11-13T07:32:04.169639",
     "exception": false,
     "start_time": "2021-11-13T07:32:04.142644",
     "status": "completed"
    },
    "tags": []
   },
   "outputs": [],
   "source": [
    "min_len = (df['y'] == 1).sum()"
   ]
  },
  {
   "cell_type": "code",
   "execution_count": 5,
   "id": "da1e3196",
   "metadata": {
    "execution": {
     "iopub.execute_input": "2021-11-13T07:32:04.207456Z",
     "iopub.status.busy": "2021-11-13T07:32:04.206659Z",
     "iopub.status.idle": "2021-11-13T07:32:04.225171Z",
     "shell.execute_reply": "2021-11-13T07:32:04.224495Z",
     "shell.execute_reply.started": "2021-11-11T05:03:12.686976Z"
    },
    "papermill": {
     "duration": 0.039249,
     "end_time": "2021-11-13T07:32:04.225313",
     "exception": false,
     "start_time": "2021-11-13T07:32:04.186064",
     "status": "completed"
    },
    "tags": []
   },
   "outputs": [],
   "source": [
    "df_y0_undersample = df[df['y'] == 0].sample(n=min_len, random_state=201)"
   ]
  },
  {
   "cell_type": "code",
   "execution_count": 6,
   "id": "e4805dd7",
   "metadata": {
    "execution": {
     "iopub.execute_input": "2021-11-13T07:32:04.263416Z",
     "iopub.status.busy": "2021-11-13T07:32:04.262709Z",
     "iopub.status.idle": "2021-11-13T07:32:04.280563Z",
     "shell.execute_reply": "2021-11-13T07:32:04.280024Z",
     "shell.execute_reply.started": "2021-11-11T05:03:12.714334Z"
    },
    "papermill": {
     "duration": 0.038393,
     "end_time": "2021-11-13T07:32:04.280700",
     "exception": false,
     "start_time": "2021-11-13T07:32:04.242307",
     "status": "completed"
    },
    "tags": []
   },
   "outputs": [],
   "source": [
    "df = pd.concat([df[df['y'] == 1], df_y0_undersample])"
   ]
  },
  {
   "cell_type": "code",
   "execution_count": 7,
   "id": "da28bdcb",
   "metadata": {
    "execution": {
     "iopub.execute_input": "2021-11-13T07:32:04.322413Z",
     "iopub.status.busy": "2021-11-13T07:32:04.321753Z",
     "iopub.status.idle": "2021-11-13T07:32:04.324131Z",
     "shell.execute_reply": "2021-11-13T07:32:04.324573Z",
     "shell.execute_reply.started": "2021-11-11T05:03:12.737892Z"
    },
    "papermill": {
     "duration": 0.027804,
     "end_time": "2021-11-13T07:32:04.324737",
     "exception": false,
     "start_time": "2021-11-13T07:32:04.296933",
     "status": "completed"
    },
    "tags": []
   },
   "outputs": [
    {
     "data": {
      "text/plain": [
       "1    16225\n",
       "0    16225\n",
       "Name: y, dtype: int64"
      ]
     },
     "execution_count": 7,
     "metadata": {},
     "output_type": "execute_result"
    }
   ],
   "source": [
    "df['y'].value_counts()"
   ]
  },
  {
   "cell_type": "markdown",
   "id": "baaf750c",
   "metadata": {
    "papermill": {
     "duration": 0.016051,
     "end_time": "2021-11-13T07:32:04.357320",
     "exception": false,
     "start_time": "2021-11-13T07:32:04.341269",
     "status": "completed"
    },
    "tags": []
   },
   "source": [
    "# TF-IDF"
   ]
  },
  {
   "cell_type": "code",
   "execution_count": 8,
   "id": "1dad129f",
   "metadata": {
    "execution": {
     "iopub.execute_input": "2021-11-13T07:32:04.407442Z",
     "iopub.status.busy": "2021-11-13T07:32:04.406757Z",
     "iopub.status.idle": "2021-11-13T07:32:04.412589Z",
     "shell.execute_reply": "2021-11-13T07:32:04.413452Z",
     "shell.execute_reply.started": "2021-11-11T05:03:12.748754Z"
    },
    "papermill": {
     "duration": 0.031223,
     "end_time": "2021-11-13T07:32:04.413680",
     "exception": false,
     "start_time": "2021-11-13T07:32:04.382457",
     "status": "completed"
    },
    "tags": []
   },
   "outputs": [],
   "source": [
    "vec = TfidfVectorizer()"
   ]
  },
  {
   "cell_type": "code",
   "execution_count": 9,
   "id": "36dddc8d",
   "metadata": {
    "execution": {
     "iopub.execute_input": "2021-11-13T07:32:04.461804Z",
     "iopub.status.busy": "2021-11-13T07:32:04.460692Z",
     "iopub.status.idle": "2021-11-13T07:32:06.288601Z",
     "shell.execute_reply": "2021-11-13T07:32:06.288126Z",
     "shell.execute_reply.started": "2021-11-11T05:03:12.758196Z"
    },
    "papermill": {
     "duration": 1.856848,
     "end_time": "2021-11-13T07:32:06.288749",
     "exception": false,
     "start_time": "2021-11-13T07:32:04.431901",
     "status": "completed"
    },
    "tags": []
   },
   "outputs": [
    {
     "data": {
      "text/plain": [
       "<32450x65740 sparse matrix of type '<class 'numpy.float64'>'\n",
       "\twith 1221879 stored elements in Compressed Sparse Row format>"
      ]
     },
     "execution_count": 9,
     "metadata": {},
     "output_type": "execute_result"
    }
   ],
   "source": [
    "X = vec.fit_transform(df['text'])\n",
    "X"
   ]
  },
  {
   "cell_type": "markdown",
   "id": "55a268a9",
   "metadata": {
    "papermill": {
     "duration": 0.016429,
     "end_time": "2021-11-13T07:32:06.322087",
     "exception": false,
     "start_time": "2021-11-13T07:32:06.305658",
     "status": "completed"
    },
    "tags": []
   },
   "source": [
    "# Fit Naive Bayes"
   ]
  },
  {
   "cell_type": "code",
   "execution_count": 10,
   "id": "1c93dc16",
   "metadata": {
    "execution": {
     "iopub.execute_input": "2021-11-13T07:32:06.361384Z",
     "iopub.status.busy": "2021-11-13T07:32:06.360397Z",
     "iopub.status.idle": "2021-11-13T07:32:06.385067Z",
     "shell.execute_reply": "2021-11-13T07:32:06.384436Z",
     "shell.execute_reply.started": "2021-11-11T05:03:15.472389Z"
    },
    "papermill": {
     "duration": 0.046263,
     "end_time": "2021-11-13T07:32:06.385215",
     "exception": false,
     "start_time": "2021-11-13T07:32:06.338952",
     "status": "completed"
    },
    "tags": []
   },
   "outputs": [
    {
     "data": {
      "text/plain": [
       "MultinomialNB()"
      ]
     },
     "execution_count": 10,
     "metadata": {},
     "output_type": "execute_result"
    }
   ],
   "source": [
    "model = MultinomialNB()\n",
    "model.fit(X, df['y'])"
   ]
  },
  {
   "cell_type": "markdown",
   "id": "d6313a5b",
   "metadata": {
    "papermill": {
     "duration": 0.016852,
     "end_time": "2021-11-13T07:32:06.419088",
     "exception": false,
     "start_time": "2021-11-13T07:32:06.402236",
     "status": "completed"
    },
    "tags": []
   },
   "source": [
    "# Validate"
   ]
  },
  {
   "cell_type": "code",
   "execution_count": 11,
   "id": "b9672770",
   "metadata": {
    "execution": {
     "iopub.execute_input": "2021-11-13T07:32:06.457616Z",
     "iopub.status.busy": "2021-11-13T07:32:06.457032Z",
     "iopub.status.idle": "2021-11-13T07:32:06.954962Z",
     "shell.execute_reply": "2021-11-13T07:32:06.954347Z",
     "shell.execute_reply.started": "2021-11-11T05:03:15.500607Z"
    },
    "papermill": {
     "duration": 0.519118,
     "end_time": "2021-11-13T07:32:06.955119",
     "exception": false,
     "start_time": "2021-11-13T07:32:06.436001",
     "status": "completed"
    },
    "tags": []
   },
   "outputs": [],
   "source": [
    "df_val = pd.read_csv(\"../input/jigsaw-toxic-severity-rating/validation_data.csv\")"
   ]
  },
  {
   "cell_type": "code",
   "execution_count": 12,
   "id": "9f9e2035",
   "metadata": {
    "execution": {
     "iopub.execute_input": "2021-11-13T07:32:07.056302Z",
     "iopub.status.busy": "2021-11-13T07:32:07.019791Z",
     "iopub.status.idle": "2021-11-13T07:32:10.313995Z",
     "shell.execute_reply": "2021-11-13T07:32:10.313367Z",
     "shell.execute_reply.started": "2021-11-11T05:03:15.983578Z"
    },
    "papermill": {
     "duration": 3.34197,
     "end_time": "2021-11-13T07:32:10.314139",
     "exception": false,
     "start_time": "2021-11-13T07:32:06.972169",
     "status": "completed"
    },
    "tags": []
   },
   "outputs": [],
   "source": [
    "X_less_toxic = vec.transform(df_val['less_toxic'])\n",
    "X_more_toxic = vec.transform(df_val['more_toxic'])"
   ]
  },
  {
   "cell_type": "code",
   "execution_count": 13,
   "id": "88fa9d52",
   "metadata": {
    "execution": {
     "iopub.execute_input": "2021-11-13T07:32:10.354377Z",
     "iopub.status.busy": "2021-11-13T07:32:10.353431Z",
     "iopub.status.idle": "2021-11-13T07:32:10.384176Z",
     "shell.execute_reply": "2021-11-13T07:32:10.383620Z",
     "shell.execute_reply.started": "2021-11-11T05:03:20.997891Z"
    },
    "papermill": {
     "duration": 0.0529,
     "end_time": "2021-11-13T07:32:10.384338",
     "exception": false,
     "start_time": "2021-11-13T07:32:10.331438",
     "status": "completed"
    },
    "tags": []
   },
   "outputs": [],
   "source": [
    "p1 = model.predict_proba(X_less_toxic)\n",
    "p2 = model.predict_proba(X_more_toxic)"
   ]
  },
  {
   "cell_type": "code",
   "execution_count": 14,
   "id": "94f0e022",
   "metadata": {
    "execution": {
     "iopub.execute_input": "2021-11-13T07:32:10.424832Z",
     "iopub.status.busy": "2021-11-13T07:32:10.423792Z",
     "iopub.status.idle": "2021-11-13T07:32:10.428403Z",
     "shell.execute_reply": "2021-11-13T07:32:10.428812Z",
     "shell.execute_reply.started": "2021-11-11T05:03:21.033255Z"
    },
    "papermill": {
     "duration": 0.026936,
     "end_time": "2021-11-13T07:32:10.429013",
     "exception": false,
     "start_time": "2021-11-13T07:32:10.402077",
     "status": "completed"
    },
    "tags": []
   },
   "outputs": [
    {
     "data": {
      "text/plain": [
       "0.6643749169655906"
      ]
     },
     "execution_count": 14,
     "metadata": {},
     "output_type": "execute_result"
    }
   ],
   "source": [
    "# Validation Accuracy\n",
    "(p1[:, 1] < p2[:, 1]).mean()"
   ]
  },
  {
   "cell_type": "markdown",
   "id": "ae006131",
   "metadata": {
    "papermill": {
     "duration": 0.016781,
     "end_time": "2021-11-13T07:32:10.463201",
     "exception": false,
     "start_time": "2021-11-13T07:32:10.446420",
     "status": "completed"
    },
    "tags": []
   },
   "source": [
    "# Submission"
   ]
  },
  {
   "cell_type": "code",
   "execution_count": 15,
   "id": "f7d02278",
   "metadata": {
    "execution": {
     "iopub.execute_input": "2021-11-13T07:32:10.503318Z",
     "iopub.status.busy": "2021-11-13T07:32:10.502353Z",
     "iopub.status.idle": "2021-11-13T07:32:11.061323Z",
     "shell.execute_reply": "2021-11-13T07:32:11.060708Z",
     "shell.execute_reply.started": "2021-11-11T05:03:21.041525Z"
    },
    "papermill": {
     "duration": 0.580828,
     "end_time": "2021-11-13T07:32:11.061468",
     "exception": false,
     "start_time": "2021-11-13T07:32:10.480640",
     "status": "completed"
    },
    "tags": []
   },
   "outputs": [],
   "source": [
    "df_sub = pd.read_csv(\"../input/jigsaw-toxic-severity-rating/comments_to_score.csv\")\n",
    "X_test = vec.transform(df_sub['text'])\n",
    "p3 = model.predict_proba(X_test)"
   ]
  },
  {
   "cell_type": "code",
   "execution_count": 16,
   "id": "0f54152d",
   "metadata": {
    "execution": {
     "iopub.execute_input": "2021-11-13T07:32:11.108327Z",
     "iopub.status.busy": "2021-11-13T07:32:11.107631Z",
     "iopub.status.idle": "2021-11-13T07:32:11.110199Z",
     "shell.execute_reply": "2021-11-13T07:32:11.110738Z",
     "shell.execute_reply.started": "2021-11-11T05:03:21.810198Z"
    },
    "papermill": {
     "duration": 0.032311,
     "end_time": "2021-11-13T07:32:11.110923",
     "exception": false,
     "start_time": "2021-11-13T07:32:11.078612",
     "status": "completed"
    },
    "tags": []
   },
   "outputs": [
    {
     "data": {
      "text/html": [
       "<div>\n",
       "<style scoped>\n",
       "    .dataframe tbody tr th:only-of-type {\n",
       "        vertical-align: middle;\n",
       "    }\n",
       "\n",
       "    .dataframe tbody tr th {\n",
       "        vertical-align: top;\n",
       "    }\n",
       "\n",
       "    .dataframe thead th {\n",
       "        text-align: right;\n",
       "    }\n",
       "</style>\n",
       "<table border=\"1\" class=\"dataframe\">\n",
       "  <thead>\n",
       "    <tr style=\"text-align: right;\">\n",
       "      <th></th>\n",
       "      <th>comment_id</th>\n",
       "      <th>text</th>\n",
       "    </tr>\n",
       "  </thead>\n",
       "  <tbody>\n",
       "    <tr>\n",
       "      <th>0</th>\n",
       "      <td>114890</td>\n",
       "      <td>\"\\n \\n\\nGjalexei, you asked about whether ther...</td>\n",
       "    </tr>\n",
       "    <tr>\n",
       "      <th>1</th>\n",
       "      <td>732895</td>\n",
       "      <td>Looks like be have an abuser , can you please ...</td>\n",
       "    </tr>\n",
       "    <tr>\n",
       "      <th>2</th>\n",
       "      <td>1139051</td>\n",
       "      <td>I confess to having complete (and apparently b...</td>\n",
       "    </tr>\n",
       "    <tr>\n",
       "      <th>3</th>\n",
       "      <td>1434512</td>\n",
       "      <td>\"\\n\\nFreud's ideas are certainly much discusse...</td>\n",
       "    </tr>\n",
       "    <tr>\n",
       "      <th>4</th>\n",
       "      <td>2084821</td>\n",
       "      <td>It is not just you. This is a laundry list of ...</td>\n",
       "    </tr>\n",
       "    <tr>\n",
       "      <th>...</th>\n",
       "      <td>...</td>\n",
       "      <td>...</td>\n",
       "    </tr>\n",
       "    <tr>\n",
       "      <th>7532</th>\n",
       "      <td>504235362</td>\n",
       "      <td>Go away, you annoying vandal.</td>\n",
       "    </tr>\n",
       "    <tr>\n",
       "      <th>7533</th>\n",
       "      <td>504235566</td>\n",
       "      <td>This user is a vandal.</td>\n",
       "    </tr>\n",
       "    <tr>\n",
       "      <th>7534</th>\n",
       "      <td>504308177</td>\n",
       "      <td>\" \\n\\nSorry to sound like a pain, but one by f...</td>\n",
       "    </tr>\n",
       "    <tr>\n",
       "      <th>7535</th>\n",
       "      <td>504570375</td>\n",
       "      <td>Well it's pretty fucking irrelevant now I'm un...</td>\n",
       "    </tr>\n",
       "    <tr>\n",
       "      <th>7536</th>\n",
       "      <td>504598250</td>\n",
       "      <td>The team name is Great Britain and Northern Ir...</td>\n",
       "    </tr>\n",
       "  </tbody>\n",
       "</table>\n",
       "<p>7537 rows × 2 columns</p>\n",
       "</div>"
      ],
      "text/plain": [
       "      comment_id                                               text\n",
       "0         114890  \"\\n \\n\\nGjalexei, you asked about whether ther...\n",
       "1         732895  Looks like be have an abuser , can you please ...\n",
       "2        1139051  I confess to having complete (and apparently b...\n",
       "3        1434512  \"\\n\\nFreud's ideas are certainly much discusse...\n",
       "4        2084821  It is not just you. This is a laundry list of ...\n",
       "...          ...                                                ...\n",
       "7532   504235362                      Go away, you annoying vandal.\n",
       "7533   504235566                           This user is a vandal.  \n",
       "7534   504308177  \" \\n\\nSorry to sound like a pain, but one by f...\n",
       "7535   504570375  Well it's pretty fucking irrelevant now I'm un...\n",
       "7536   504598250  The team name is Great Britain and Northern Ir...\n",
       "\n",
       "[7537 rows x 2 columns]"
      ]
     },
     "execution_count": 16,
     "metadata": {},
     "output_type": "execute_result"
    }
   ],
   "source": [
    "df_sub"
   ]
  },
  {
   "cell_type": "code",
   "execution_count": 17,
   "id": "7ac6291d",
   "metadata": {
    "execution": {
     "iopub.execute_input": "2021-11-13T07:32:11.152340Z",
     "iopub.status.busy": "2021-11-13T07:32:11.151666Z",
     "iopub.status.idle": "2021-11-13T07:32:11.154063Z",
     "shell.execute_reply": "2021-11-13T07:32:11.154599Z",
     "shell.execute_reply.started": "2021-11-11T05:03:21.82366Z"
    },
    "papermill": {
     "duration": 0.02613,
     "end_time": "2021-11-13T07:32:11.154776",
     "exception": false,
     "start_time": "2021-11-13T07:32:11.128646",
     "status": "completed"
    },
    "tags": []
   },
   "outputs": [],
   "source": [
    "df_sub['score'] = p3[:, 1]"
   ]
  },
  {
   "cell_type": "code",
   "execution_count": 18,
   "id": "2a88131c",
   "metadata": {
    "execution": {
     "iopub.execute_input": "2021-11-13T07:32:11.197653Z",
     "iopub.status.busy": "2021-11-13T07:32:11.197034Z",
     "iopub.status.idle": "2021-11-13T07:32:11.199563Z",
     "shell.execute_reply": "2021-11-13T07:32:11.200058Z",
     "shell.execute_reply.started": "2021-11-11T05:03:21.831269Z"
    },
    "papermill": {
     "duration": 0.026969,
     "end_time": "2021-11-13T07:32:11.200233",
     "exception": false,
     "start_time": "2021-11-13T07:32:11.173264",
     "status": "completed"
    },
    "tags": []
   },
   "outputs": [
    {
     "data": {
      "text/plain": [
       "7537"
      ]
     },
     "execution_count": 18,
     "metadata": {},
     "output_type": "execute_result"
    }
   ],
   "source": [
    "df_sub['score'].count()"
   ]
  },
  {
   "cell_type": "code",
   "execution_count": 19,
   "id": "0ff37af0",
   "metadata": {
    "execution": {
     "iopub.execute_input": "2021-11-13T07:32:11.242963Z",
     "iopub.status.busy": "2021-11-13T07:32:11.241948Z",
     "iopub.status.idle": "2021-11-13T07:32:11.246410Z",
     "shell.execute_reply": "2021-11-13T07:32:11.246860Z",
     "shell.execute_reply.started": "2021-11-11T05:03:21.845138Z"
    },
    "papermill": {
     "duration": 0.028813,
     "end_time": "2021-11-13T07:32:11.247030",
     "exception": false,
     "start_time": "2021-11-13T07:32:11.218217",
     "status": "completed"
    },
    "tags": []
   },
   "outputs": [
    {
     "data": {
      "text/plain": [
       "7507"
      ]
     },
     "execution_count": 19,
     "metadata": {},
     "output_type": "execute_result"
    }
   ],
   "source": [
    "# 9 comments will fail if compared one with the other\n",
    "df_sub['score'].nunique()"
   ]
  },
  {
   "cell_type": "code",
   "execution_count": 20,
   "id": "c1e642d7",
   "metadata": {
    "execution": {
     "iopub.execute_input": "2021-11-13T07:32:11.288625Z",
     "iopub.status.busy": "2021-11-13T07:32:11.285642Z",
     "iopub.status.idle": "2021-11-13T07:32:11.313787Z",
     "shell.execute_reply": "2021-11-13T07:32:11.314421Z",
     "shell.execute_reply.started": "2021-11-11T05:03:21.859803Z"
    },
    "papermill": {
     "duration": 0.049513,
     "end_time": "2021-11-13T07:32:11.314596",
     "exception": false,
     "start_time": "2021-11-13T07:32:11.265083",
     "status": "completed"
    },
    "tags": []
   },
   "outputs": [],
   "source": [
    "df_sub[['comment_id', 'score']].to_csv(\"submission.csv\", index=False)"
   ]
  },
  {
   "cell_type": "markdown",
   "id": "252841d1",
   "metadata": {
    "papermill": {
     "duration": 0.017801,
     "end_time": "2021-11-13T07:32:11.352310",
     "exception": false,
     "start_time": "2021-11-13T07:32:11.334509",
     "status": "completed"
    },
    "tags": []
   },
   "source": [
    "# Please, _DO_ upvote!"
   ]
  }
 ],
 "metadata": {
  "kernelspec": {
   "display_name": "Python 3",
   "language": "python",
   "name": "python3"
  },
  "language_info": {
   "codemirror_mode": {
    "name": "ipython",
    "version": 3
   },
   "file_extension": ".py",
   "mimetype": "text/x-python",
   "name": "python",
   "nbconvert_exporter": "python",
   "pygments_lexer": "ipython3",
   "version": "3.7.10"
  },
  "papermill": {
   "default_parameters": {},
   "duration": 18.695561,
   "end_time": "2021-11-13T07:32:12.081276",
   "environment_variables": {},
   "exception": null,
   "input_path": "__notebook__.ipynb",
   "output_path": "__notebook__.ipynb",
   "parameters": {},
   "start_time": "2021-11-13T07:31:53.385715",
   "version": "2.3.3"
  }
 },
 "nbformat": 4,
 "nbformat_minor": 5
}
